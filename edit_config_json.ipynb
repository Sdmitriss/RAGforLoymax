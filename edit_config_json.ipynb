{
 "cells": [
  {
   "cell_type": "code",
   "execution_count": 2,
   "id": "fde3dffe-a2f3-49db-b372-042fef14fc65",
   "metadata": {},
   "outputs": [],
   "source": [
    "import  json\n",
    "from pathlib  import Path\n",
    "\n",
    "path_config = Path.cwd()/'config'"
   ]
  },
  {
   "cell_type": "markdown",
   "id": "5d39e417",
   "metadata": {},
   "source": [
    "Загрузка config.json"
   ]
  },
  {
   "cell_type": "code",
   "execution_count": 12,
   "id": "e1136b56-2e87-470e-8f94-96a1c5296d64",
   "metadata": {},
   "outputs": [
    {
     "data": {
      "text/plain": [
       "{'file_name_texts': 'texts_index.pkl',\n",
       " 'file_name_texts_add': 'texts_add_index.pkl',\n",
       " 'file_name_index': 'index_file.index',\n",
       " 'name_json_init': 'RuBQ_2.0_paragraphs_1.json',\n",
       " 'folder_model': '.cashe/',\n",
       " 'model_embed_name': 'cointegrated/LaBSE-en-ru',\n",
       " 'model_llm_name': {'repo_id': 'itlwas/YandexGPT-5-Lite-8B-instruct-Q4_K_M-GGUF',\n",
       "  'filename': 'yandexgpt-5-lite-8b-instruct-q4_k_m.gguf'},\n",
       " 'config_LLM': {'max_tokens': 300,\n",
       "  'stop': ['</s>'],\n",
       "  'temperature': 0.5,\n",
       "  'top_p': 0.95},\n",
       " 'min_words': 20,\n",
       " 'top_k_faiss': 1,\n",
       " 'threshold': 1,\n",
       " 'distance_diff_vector': 0.1}"
      ]
     },
     "execution_count": 12,
     "metadata": {},
     "output_type": "execute_result"
    }
   ],
   "source": [
    "with open(path_config/'config.json', 'r', encoding='utf-8') as f:\n",
    "    config = json.load(f)\n",
    "\n",
    "config"
   ]
  },
  {
   "cell_type": "code",
   "execution_count": 10,
   "id": "f38bf2c0-166c-426c-8bd4-be785eb9f9fe",
   "metadata": {},
   "outputs": [],
   "source": [
    "config  = {\n",
    " 'file_name_texts': 'texts_index.pkl',\n",
    " 'file_name_texts_add':'texts_add_index.pkl',\n",
    " 'file_name_index': 'index_file.index',\n",
    " 'name_json_init' : 'RuBQ_2.0_paragraphs_1.json',    \n",
    " 'folder_model': '.cashe/',\n",
    " 'model_embed_name': 'cointegrated/LaBSE-en-ru',\n",
    " 'model_llm_name': {'repo_id': 'itlwas/YandexGPT-5-Lite-8B-instruct-Q4_K_M-GGUF',\n",
    "  'filename': 'yandexgpt-5-lite-8b-instruct-q4_k_m.gguf'},\n",
    " 'config_LLM': {'max_tokens': 300,\n",
    "  'stop': ['</s>'],\n",
    "  'temperature': 0.5,\n",
    "  'top_p': 0.95},\n",
    " 'min_words': 20,\n",
    " 'top_k_faiss': 1,\n",
    " 'threshold': 1,\n",
    " 'distance_diff_vector': 0.1}"
   ]
  },
  {
   "cell_type": "markdown",
   "id": "ebc1493b",
   "metadata": {},
   "source": [
    "- file_name_texts — имя файла для сохранения списка текстов, связанных с индексом;\n",
    "- file_name_texts_add — имя файла для сохранения списка  добавленных текстов, связанных с индексом;\n",
    "- file_name_index — имя файла FAISS-индекса;\n",
    "- name_json_init — имя JSON-файла с исходными данными для инициализации индекса;\n",
    "- folder_model — директория для хранения моделей и кэша;\n",
    "- model_embed_name — название модели эмбеддингов (SentenceTransformer);\n",
    "- model_llm_name — параметры основной LLM-модели {'repo_id':репозиторий , 'filnename': имя файла GGUF};\n",
    "- config_LLM — настройки генерации текста: максимальное число токенов, стоп-символы, температура, top-p;\n",
    "- min_words — минимальное количество слов в тексте для включения в индекс( для модуля preprocessing.py);\n",
    "- top_k_faiss — количество ближайших соседей, возвращаемых FAISS;\n",
    "- threshold — порог расстояния для включения текста в ответ;\n",
    "- distance_diff_vector — минимальная разница между расстояниями, чтобы учитывать в выборке."
   ]
  },
  {
   "cell_type": "markdown",
   "id": "e4b3cd94",
   "metadata": {},
   "source": [
    "Запись  в папку  сonfig"
   ]
  },
  {
   "cell_type": "code",
   "execution_count": 11,
   "id": "c936a47a-23c0-41b3-88ae-07b0103e4c2f",
   "metadata": {},
   "outputs": [],
   "source": [
    "with open(path_config/'config.json', 'w', encoding='utf-8') as f:\n",
    "    json.dump(config, f, ensure_ascii=False, indent=4)"
   ]
  },
  {
   "cell_type": "code",
   "execution_count": null,
   "id": "cd619965-fee6-40d4-8d60-3e289321df66",
   "metadata": {},
   "outputs": [],
   "source": []
  },
  {
   "cell_type": "code",
   "execution_count": null,
   "id": "33f8dc35-8985-48e7-8ba0-7bac35ee8f7c",
   "metadata": {},
   "outputs": [],
   "source": []
  }
 ],
 "metadata": {
  "kernelspec": {
   "display_name": "env_DL",
   "language": "python",
   "name": "python3"
  },
  "language_info": {
   "codemirror_mode": {
    "name": "ipython",
    "version": 3
   },
   "file_extension": ".py",
   "mimetype": "text/x-python",
   "name": "python",
   "nbconvert_exporter": "python",
   "pygments_lexer": "ipython3",
   "version": "3.13.5"
  }
 },
 "nbformat": 4,
 "nbformat_minor": 5
}
