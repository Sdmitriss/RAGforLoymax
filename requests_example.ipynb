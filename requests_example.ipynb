{
 "cells": [
  {
   "cell_type": "code",
   "execution_count": 5,
   "id": "5c98c5fd-4f03-4121-bf35-2fcc8a571db7",
   "metadata": {},
   "outputs": [],
   "source": [
    "import requests\n",
    "import json\n",
    "from urllib.parse import urljoin\n",
    "from pathlib import Path\n"
   ]
  },
  {
   "cell_type": "code",
   "execution_count": 6,
   "id": "72a77851-7308-4174-99f3-86fa2e81e70a",
   "metadata": {},
   "outputs": [],
   "source": [
    "base_url = 'http://localhost:8000/'"
   ]
  },
  {
   "cell_type": "code",
   "execution_count": 7,
   "id": "4e681205-6151-40b7-99a7-97b628de4995",
   "metadata": {},
   "outputs": [],
   "source": [
    "def create_url_endpoint(endpoint: str, base_url: str = base_url)  -> str:\n",
    "    return urljoin(base_url, endpoint)"
   ]
  },
  {
   "cell_type": "code",
   "execution_count": null,
   "id": "eaa7beba-c758-43a7-ae30-8e05e6afd7c9",
   "metadata": {},
   "outputs": [],
   "source": []
  },
  {
   "cell_type": "code",
   "execution_count": 8,
   "id": "4e46ddd3-59ff-4777-b783-0cb6177046a3",
   "metadata": {},
   "outputs": [
    {
     "name": "stdout",
     "output_type": "stream",
     "text": [
      "Основной json для инициализации хранилища, _1  срез первые 16 текстов  _2  срез полседние 16 текстов\n",
      "Для тестов и отладки\n"
     ]
    },
    {
     "data": {
      "text/plain": [
       "[WindowsPath('C:/Users/dmitr/project_loc/Loymax/data_raw/RuBQ_2.0_paragraphs.json'),\n",
       " WindowsPath('C:/Users/dmitr/project_loc/Loymax/data_raw/RuBQ_2.0_paragraphs_1.json'),\n",
       " WindowsPath('C:/Users/dmitr/project_loc/Loymax/data_raw/RuBQ_2.0_paragraphs_2.json')]"
      ]
     },
     "execution_count": 8,
     "metadata": {},
     "output_type": "execute_result"
    }
   ],
   "source": [
    "path_data = Path.cwd()/'data_raw'\n",
    "path_json_init =list( path_data.glob('*.json'))\n",
    "print('Основной json для инициализации хранилища, _1  срез первые 16 текстов  _2  срез полседние 16 текстов')\n",
    "print('Для тестов и отладки')\n",
    "path_json_init"
   ]
  },
  {
   "cell_type": "markdown",
   "id": "6d1e6690-d1fb-4866-93a7-c9d02d2808f6",
   "metadata": {},
   "source": [
    "### 1. For indexer"
   ]
  },
  {
   "cell_type": "markdown",
   "id": "1302f4a4-0e31-45ea-8e11-6b850fb1a5df",
   "metadata": {},
   "source": [
    "#### 1.1.  Эндпоинт  инициализации хранилища"
   ]
  },
  {
   "cell_type": "markdown",
   "id": "83f12cfe",
   "metadata": {},
   "source": [
    "# 'name_json_init' : 'RuBQ_2.0_paragraphs_1.json'  - тестовый вариант инициализации, пропсан  в config"
   ]
  },
  {
   "cell_type": "code",
   "execution_count": 48,
   "id": "e78571e6-f533-4a53-a512-da5e2338dac5",
   "metadata": {},
   "outputs": [
    {
     "name": "stdout",
     "output_type": "stream",
     "text": [
      "200\n",
      "{'status': 'Index created successfully'}\n"
     ]
    }
   ],
   "source": [
    "endpoint ='create_index'\n",
    "url = urljoin(base_url, endpoint)\n",
    "response = requests.post(url)\n",
    "\n",
    "print(response.status_code)\n",
    "print(response.json())"
   ]
  },
  {
   "cell_type": "code",
   "execution_count": 9,
   "id": "9aa854da",
   "metadata": {},
   "outputs": [
    {
     "name": "stdout",
     "output_type": "stream",
     "text": [
      "200\n",
      "{'status': 'Index created successfully'}\n"
     ]
    }
   ],
   "source": [
    "endpoint ='create_index'\n",
    "url = urljoin(base_url, endpoint)\n",
    "response = requests.post(url)\n",
    "\n",
    "print(response.status_code)\n",
    "print(response.json())"
   ]
  },
  {
   "cell_type": "markdown",
   "id": "62ca0e5a-51b6-4214-99ac-12c801b80345",
   "metadata": {},
   "source": [
    "#### 1.2. Эндпоинт для добавления текстов в индекс из JSON-файла по указанному пути"
   ]
  },
  {
   "cell_type": "code",
   "execution_count": 19,
   "id": "63cda9ce-e929-4428-92b3-7be21448beec",
   "metadata": {},
   "outputs": [
    {
     "data": {
      "text/plain": [
       "'C:\\\\Users\\\\dmitr\\\\project_loc\\\\Loymax\\\\data_raw\\\\RuBQ_2.0_paragraphs_2.json'"
      ]
     },
     "execution_count": 19,
     "metadata": {},
     "output_type": "execute_result"
    }
   ],
   "source": [
    "path_json_add = str(path_json_init[2])\n",
    "path_json_add"
   ]
  },
  {
   "cell_type": "code",
   "execution_count": 49,
   "id": "164edd28-7f4a-42ed-bc29-60a547d68fa1",
   "metadata": {},
   "outputs": [
    {
     "name": "stdout",
     "output_type": "stream",
     "text": [
      "200\n",
      "{'status': 'Added texts from file C:\\\\Users\\\\dmitr\\\\project_loc\\\\Loymax\\\\data_raw\\\\RuBQ_2.0_paragraphs_2.json to index'}\n"
     ]
    }
   ],
   "source": [
    "endpoint  = 'add_index' # принимает json строку\n",
    "url = create_url_endpoint(endpoint)\n",
    "\n",
    "response = requests.post(\n",
    "    url, json.dumps(path_json_add),\n",
    "    headers={\"Content-Type\": \"application/json\"}\n",
    ")\n",
    "\n",
    "print(response.status_code)\n",
    "print(response.json())"
   ]
  },
  {
   "cell_type": "markdown",
   "id": "9168ff9d-8f50-464b-920b-a289b60cd8cb",
   "metadata": {},
   "source": [
    "#### 1.3. Эндпоинт для поиска схожих текстов. Принимает строку (json строка) и возвращает список расстояний и найденных текстов"
   ]
  },
  {
   "cell_type": "code",
   "execution_count": 54,
   "id": "560ead38-ce21-411f-84b7-d323695c4ef0",
   "metadata": {},
   "outputs": [
    {
     "name": "stdout",
     "output_type": "stream",
     "text": [
      "200\n",
      "[0.6621801257133484, 0.8026571273803711, 0.8354564905166626]\n"
     ]
    }
   ],
   "source": [
    "endpoint = 'search_texts'\n",
    "url = create_url_endpoint(endpoint)\n",
    "text ='''\n",
    "В первых двух турах ЦСКА потерпел два поражения, \n",
    "сначала в гостевом матче с «Черноморцем» 2:0, затем в домашнем матче против самарского клуба «Крылья Советов» 3:0.\n",
    "'''\n",
    "response = requests.post(\n",
    "    url, json.dumps(text.strip()),\n",
    "    headers={\"Content-Type\": \"application/json\"}\n",
    ")\n",
    "\n",
    "print(response.status_code)\n",
    "\n",
    "print(response.json()[\"similarity_scores\"])"
   ]
  },
  {
   "cell_type": "code",
   "execution_count": 55,
   "id": "32d26727-1397-48c0-ab07-3d75addaf3d7",
   "metadata": {
    "collapsed": true,
    "jupyter": {
     "outputs_hidden": true
    }
   },
   "outputs": [
    {
     "name": "stdout",
     "output_type": "stream",
     "text": [
      "['В первом сезоне в составе Континентальной хоккейной лиги ЦСКА выиграл дивизион Тарасова, но в плей-офф с трудом обыграл «Ладу» (3-2 по сумме встреч) и всухую проиграл «Динамо» (0-3). В конце сезона тренерский тандем Быков-Захаркин покинул команду, аргументировав своё решение желанием сосредоточиться на работе в сборной России, однако уже через несколько недель подписали контракт с командой «Салават Юлаев», таким образом продолжив совмещать работу в сборной и в клубе.', '21 февраля 2001 года было объявлено о смене собственника армейского клуба. Новыми акционерами стали компания «АВО-Капитал» — 51 % акций, Министерство Обороны РФ и английская фирма «Blue Castle Enterprises Limited», а президентом клуба стал российский предприниматель Евгений Леннорович Гинер. К этому времени команду покинул ряд футболистов, считавшихся в прошлом сезоне основными: Хомуха, Бычков, Окрошидзе и Шишкин. До закрытия трансферного окна новому руководству удалось приобрести трёх футболистов, реально усиливших состав армейцев: сначала у новороссийского «Черноморца» был куплен нападающий Денис Попов, затем у приднестровского клуба «Шериф» был приобретён вратарь Сергей Перхун, а третьим новичком стал полузащитник Юрис Лайзан, перешедший из рижского клуба «Сконто». В первых двух турах ЦСКА потерпел два поражения, сначала в гостевом матче с «Черноморцем» 2:0, затем в домашнем матче против самарского клуба «Крылья Советов» 3:0. В третьем туре ЦСКА встречался с московским «Спартаком» матч закончился со счётом 1:0 в пользу «Спартака», однако этот матч вошёл в историю российского футбола по другим причинам. За несколько часов до дерби произошли массовые драки между фанатами команд. Уже в самом начале матча из армейских секторов на беговые дорожки полетели дымовые шашки, поле заволокло клубами дыма, в милиционеров полетели пластиковые кресла, через некоторое время на спартаковских секторах началась массовая драка фанатов красно-белых с ОМОНом, драки продолжались весь матч. По данным ГУВД, во время матча было вырвано 1436 кресел, 660 человек задержано, а ещё 27 госпитализировано. Несмотря на неудачный старт, первый круг армейцы завершили на пятом месте, набрав 25 очков. В период летних дозаявок кардинальная перестройка состава продолжилась. Команду покинули игроки основного состава Андрей Новосадов, Алексей Савельев, Артем Енин, Константин Кайнов, Марек Холли, Михаил Лунин, Рустем Булатов и целая группа молодых футболистов. Взамен армейцы приобрели одиннадцать футболистов, среди них были: Алексей Березуцкий, Игорь Яновский, Андрей Соломатин, Элвер Рахимич, Предраг Ранджелович, Вениамин Мандрыкин, Роман Монарёв, Владимир Кузьмичёв, Александр Беркетов и Спартак Гогниев. Столь солидное усиление позволяло рассматривать ЦСКА как одного из претендентов на медали. Однако во втором круге на команду обрушилась череда невзгод. 18 августа в гостевом матче с махачкалинским «Анжи» при столкновении с нападающим Будуном Будуновым Сергей Перхун получил серьёзную травму головы. Сначала травма казалась средней тяжести, Сергей был в сознании до конца матча. Но по дороге в аэропорт он впал в кому, повлёкшую клиническую смерть. Несмотря на все усилия врачей, в 5 часов утра 28 августа футболист скончался. Позднее стало известно о смертельной болезни Павла Садырина. В последних турах чемпионата 2001 вместо него командой руководил Александр Кузнецов. 1 декабря Садырин скончался. В итоге команда завершила сезон только на седьмом месте, набрав 47 очков.', 'В межсезонье команду покинули Сергей Семак, перешедший в «ПСЖ», Дмитрий Кириченко, оказавшийся в «Москве», и Иржи Ярошик, перебравшийся в «Челси», а пополнилась команда бразильским полузащитником Дуду. Сезон 2005 года для армейцев начался домашним матчем с португальской «Бенфикой» в рамках 1/16 Кубка УЕФА, который завершился победой ЦСКА 2:0, в гостевом матче армейцы сыграли вничью 1:1. Следующим соперником ЦСКА стал сербский клуб «Партизан», гостевой матч в Белграде завершился со счётом 1:1, а домашний в Краснодаре — 2:0 в пользу красно-синих. В следующем раунде армейцы разгромили французский «Осер» 4:0. Несмотря на поражение в гостях 2:0, ЦСКА смог продолжить выступление в еврокубке. В полуфинале ЦСКА противостояла итальянская «Парма», обыграв которую (0:0, 3:0), москвичи вышли в финал. Соперником в финале кубка УЕФА стал португальский клуб «Спортинг». Финальный матч проходил в Лиссабоне на родном для португальской команды стадионе Жозе Алваладе 18 мая 2005 года. Первый гол в матче на 29 минуте забил полузащитник «Спортинга» Рожерио. На 56-й минуте игры Алексей Березуцкий после подачи Карвальо сравнял счёт, на 65-й минуте армеец Юрий Жирков вывел москвичей вперёд, а на 75-й минуте встречи Вагнер Лав установил окончательный счёт в матче — 3:1. Впервые в истории российский клуб выиграл еврокубок. 29 мая 2005 года в финале кубка России ЦСКА обыграл со счётом 1:0 подмосковные «Химки», единственный мяч забил Юрий Жирков. В чемпионате страны, в 29 туре, досрочно, обыграв московское «Динамо», армейцы во второй раз в своей истории стали чемпионами. Сезон 2005 до сих пор считается наиболее успешным в истории армейского клуба. Так, ЦСКА образца 2005 года был признан жюри конкурса «Чемпионату России по футболу-20 лет» лучшей командой российских чемпионатов 1992—2012 годов.']\n"
     ]
    }
   ],
   "source": [
    "print(  response.json()[\"retrieved_texts\"])"
   ]
  },
  {
   "cell_type": "markdown",
   "id": "9123f241-0ea6-47a8-ab39-a658407f781a",
   "metadata": {},
   "source": [
    "#### 1.3. Удаляет файлы сотояния хранилища, после возможна инициализация на новых данных"
   ]
  },
  {
   "cell_type": "code",
   "execution_count": 56,
   "id": "a24e77fb-f201-455c-87ad-b752db210d80",
   "metadata": {},
   "outputs": [
    {
     "name": "stdout",
     "output_type": "stream",
     "text": [
      "200\n",
      "{'status': 'Index files deleted'}\n"
     ]
    }
   ],
   "source": [
    "endpoint = 'delete_index_files'\n",
    "url = create_url_endpoint(endpoint)\n",
    "response = requests.delete(url)\n",
    "\n",
    "print(response.status_code)\n",
    "print(response.json())\n",
    "\n"
   ]
  },
  {
   "cell_type": "markdown",
   "id": "aa8a4949-5575-4a98-9a9f-0abc31353e5b",
   "metadata": {},
   "source": [
    "### 2. For answer"
   ]
  },
  {
   "cell_type": "code",
   "execution_count": 57,
   "id": "576db1ec-791f-4c0f-8c78-c74ebd3ea2e3",
   "metadata": {},
   "outputs": [],
   "source": [
    "base_url_2 = 'http://localhost:8001/'"
   ]
  },
  {
   "cell_type": "markdown",
   "id": "d51b85c8-6ad5-4d65-8053-5b535182b1e5",
   "metadata": {},
   "source": [
    "#### 2.1. Генерация ответа на вопрос."
   ]
  },
  {
   "cell_type": "code",
   "execution_count": 58,
   "id": "7d95a4b9-1a64-4647-a121-269feae34bf1",
   "metadata": {},
   "outputs": [],
   "source": [
    "endpoint ='answer_question'\n",
    "url = create_url_endpoint(endpoint, base_url=base_url_2)"
   ]
  },
  {
   "cell_type": "code",
   "execution_count": null,
   "id": "1cd23770-2bde-43ef-ab2b-6684223e777d",
   "metadata": {},
   "outputs": [],
   "source": []
  },
  {
   "cell_type": "code",
   "execution_count": 77,
   "id": "70c13191-3a3a-4f14-9fe4-9ce54f60b0f2",
   "metadata": {},
   "outputs": [
    {
     "name": "stdout",
     "output_type": "stream",
     "text": [
      "200\n",
      "Расскажи про спортивный клуб  ЦСКА и его историю\n",
      "Ответ: ЦСКА — советский и российский профессиональный хоккейный клуб из Москвы, основан в 1946 году под названием ЦДКА. С 1951 года назывался ЦДСА, с 1954 года — ЦСК МО, и с 1959 года носит название ЦСКА. Выступает в Континентальной хоккейной лиге.\n",
      "{'similarity_scores': [0.8233098387718201], 'retrieved_texts': ['ЦСКА — советский и российский профессиональный хоккейный клуб из Москвы, выступающий в Континентальной хоккейной лиге. Основан в 1946 году под названием ЦДКА (Центральный дом Красной Армии). В 1951 году переименован в ЦДСА (Центральный дом Советской Армии), а в 1954 в ЦСК МО (Центральный спортивный клуб Министерства обороны), под которым выступал до 1959 года, и с тех пор носит название ЦСКА (Центральный Спортивный Клуб Армии).']}\n"
     ]
    }
   ],
   "source": [
    "text = 'Расскажи про спортивный клуб  ЦСКА и его историю'\n",
    "\n",
    "response = requests.post(\n",
    "    url, json.dumps(text.strip()),\n",
    "    headers={\"Content-Type\": \"application/json\"}\n",
    ")\n",
    "answer = response.json()\n",
    "\n",
    "print(response.status_code)\n",
    "print(answer['query'])\n",
    "print(answer['answer'].strip())\n",
    "print(answer['result_indexer'])"
   ]
  },
  {
   "cell_type": "code",
   "execution_count": 75,
   "id": "139266ac-c699-40e5-be73-711068e2163b",
   "metadata": {},
   "outputs": [
    {
     "name": "stdout",
     "output_type": "stream",
     "text": [
      "200\n",
      "Расскажи про АВО-Капитал\n",
      "\"Я не нашел информации по вашему запросу в доступных источниках.\"\n",
      "{'similarity_scores': [1.551884412765503], 'retrieved_texts': ['ЦСКА — советский и российский профессиональный хоккейный клуб из Москвы, выступающий в Континентальной хоккейной лиге. Основан в 1946 году под названием ЦДКА (Центральный дом Красной Армии). В 1951 году переименован в ЦДСА (Центральный дом Советской Армии), а в 1954 в ЦСК МО (Центральный спортивный клуб Министерства обороны), под которым выступал до 1959 года, и с тех пор носит название ЦСКА (Центральный Спортивный Клуб Армии).']}\n"
     ]
    }
   ],
   "source": [
    "text = 'Расскажи про АВО-Капитал'\n",
    "response = requests.post(\n",
    "    url, json.dumps(text.strip()),\n",
    "    headers={\"Content-Type\": \"application/json\"}\n",
    ")\n",
    "answer = response.json()\n",
    "\n",
    "print(response.status_code)\n",
    "print(answer['query'])\n",
    "print(answer['answer'].strip())\n",
    "print(answer['result_indexer'])"
   ]
  },
  {
   "cell_type": "code",
   "execution_count": null,
   "id": "0979dd84-ee41-4914-843c-ff289c94ab61",
   "metadata": {},
   "outputs": [],
   "source": []
  }
 ],
 "metadata": {
  "kernelspec": {
   "display_name": "Python 3 (ipykernel)",
   "language": "python",
   "name": "python3"
  },
  "language_info": {
   "codemirror_mode": {
    "name": "ipython",
    "version": 3
   },
   "file_extension": ".py",
   "mimetype": "text/x-python",
   "name": "python",
   "nbconvert_exporter": "python",
   "pygments_lexer": "ipython3",
   "version": "3.13.5"
  }
 },
 "nbformat": 4,
 "nbformat_minor": 5
}
